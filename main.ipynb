{
 "cells": [
  {
   "cell_type": "code",
   "execution_count": 1,
   "metadata": {},
   "outputs": [],
   "source": [
    "###########################################################\n",
    "###########################################################\n",
    "###########################################################\n",
    "\n",
    "## 自变量 挖矿节点 难度目标\n",
    "## 因变量 出块时间\n",
    "\n",
    "## 目标：找到一组合适的 PID 参数，使得每挖一个块，做一次难度调节\n",
    "##      使得连续生成 1000 个块的方差较小\n",
    "##      多组PID参数做比较 原始难度调整策略做比较\n",
    "\n",
    "## 使用hash算法 sha1, 一共 160位，难度前导0最多159位\n",
    "\n",
    "## 目标挖矿平均时间 60s， 记录每个新块的产生时间\n",
    "\n",
    "## CPU: 2.3 GHz Intel Core i9, 8 - core, use muti-process to simulate the mining nodes\n",
    "\n",
    "## the root hash of merkle tree is selected by random.\n",
    "\n",
    "###########################################################\n",
    "###########################################################\n",
    "###########################################################"
   ]
  },
  {
   "cell_type": "code",
   "execution_count": 2,
   "metadata": {},
   "outputs": [],
   "source": [
    "## Support Functions\n",
    "import hashlib\n",
    "def sha1(obj: str):\n",
    "    return hashlib.sha1(str(obj).encode('utf-8')).hexdigest()"
   ]
  },
  {
   "cell_type": "code",
   "execution_count": 3,
   "metadata": {},
   "outputs": [],
   "source": [
    "## Block\n",
    "class Block:\n",
    "    duration = 0\n",
    "    \n",
    "    def __init__(self, height, pre_hash, merkle, nouce, transactions):\n",
    "        self.height = height\n",
    "        self.pre_hash = pre_hash\n",
    "        self.merkle = merkle\n",
    "        self.nouce = nouce\n",
    "        self.transactions = transactions\n",
    "\n",
    "    def getHash(self):\n",
    "        return sha1(self)\n",
    "    \n",
    "    def __repr__(self):\n",
    "        return str(self.pre_hash) + str(self.height) + str(self.merkle) + str(self.nouce)\n",
    "    \n",
    "    def printJSON(self):\n",
    "        # DFS or BFS\n",
    "        print(\"Hash:\", self.getHash(), \"Height:\", self.height, \"Pre_Hash:\", self.pre_hash, \"Merkle Hash:\", self.merkle, \"nouce:\", self.nouce)\n",
    "        pass"
   ]
  },
  {
   "cell_type": "code",
   "execution_count": 4,
   "metadata": {},
   "outputs": [
    {
     "name": "stdout",
     "output_type": "stream",
     "text": [
      "Mine DIFFICULTY: 144.0\n"
     ]
    }
   ],
   "source": [
    "## mine difficaulty\n",
    "## 40 - 4 = 36\n",
    "## hash value should smaller than DIFFICULTY\n",
    "import math\n",
    "DIFFICULTY = 0x0000FFFFFFFFFFFFFFFFFFFFFFFFFFFFFFFFFFFF\n",
    "# DIFFICULTY = 0x0000600000000000000000000000000000000000\n",
    "\n",
    "print('Mine DIFFICULTY:', math.log2(DIFFICULTY))\n",
    "# len(\"00000FFFFFFFFFFFFFFFFFFFFFFFFFFFFFFFFFFF\")\n",
    "# 5000000000000000000000000000000000000000000\n",
    "# 22300745198530623141535718272648361505980415"
   ]
  },
  {
   "cell_type": "code",
   "execution_count": 5,
   "metadata": {},
   "outputs": [],
   "source": [
    "import matplotlib.pyplot as plt\n",
    "def visualization(blocks):\n",
    "    x = range(len(blocks))\n",
    "    y = [block.duration if block.duration < 400 else 400 for block in blocks]\n",
    "    x_standard = range(len(blocks))\n",
    "    y_standard = [1 for i in x_standard]\n",
    "    plt.figure(figsize=(20,4)) \n",
    "    l1=plt.plot(x,y,'r--',label='Mining')\n",
    "    l2=plt.plot(x_standard,y_standard,'g--',label='Standard')\n",
    "    plt.plot(x,y,'ro-',x_standard,y_standard,'g+-')\n",
    "    plt.xlabel(\"Height\")\n",
    "    plt.ylabel(\"Time(s)\")\n",
    "    plt.legend()\n",
    "    plt.title(\"Time Analysis\")\n",
    "\n",
    "# visualization([{\"duration\": 12},{\"duration\": 40}])"
   ]
  },
  {
   "cell_type": "code",
   "execution_count": 6,
   "metadata": {},
   "outputs": [],
   "source": [
    "## PID ajustment\n",
    "## U(t) = Kp*error(t) + Ki*integration(error(t)) + Kd*(error(t) - error(t-1))\n",
    "## Initialize kp = 1.5  Ki = 1 Kd = 1, more epochs to find the best coefficient\n",
    "## target = 60s\n",
    "## error(t) = 60s - real_time\n",
    "## new_Diffculty = old_Diffculty + U(t)\n",
    "## old_Difficulty = 5 means 00000 + FFFFFFFFFFFFFFFFFFFFFFFFFFFFFFFFFFF\n",
    "\n",
    "# kp = 1\n",
    "# ki = 0.5\n",
    "# kd = 0.1\n",
    "# portion = 10000000000000000000000000000000000000000\n",
    "kp = 0.001\n",
    "ki = 0.0005\n",
    "kd = 0.0003\n",
    "# kd = 0.0005\n",
    "difficulties = []\n",
    "# kp = 0.5, ki = 0.2, kd = 0.1\n",
    "# kp = 0.5, ki = 0.3, kd = 0.1\n",
    "# kp = 0.5, ki = 0.4, kd = 0.1\n",
    "\n",
    "# durations = [1,2,3,4,5,6,7,8,9,10]\n",
    "\n",
    "def adjustmentDifficulty(old_Difficulty,height):\n",
    "    old_Difficulty = math.log2(old_Difficulty)\n",
    "    previous_ten_durations = durations[len(durations)-10:len(durations)]\n",
    "    sum = 0\n",
    "    for duration in previous_ten_durations:\n",
    "        sum += duration\n",
    "        \n",
    "    new_Difficulty = old_Difficulty * sum / 20 # change difficulty every 10 blocks \n",
    "#     print('### change difficulty to: ', new_Difficulty,  ' height is ', height)\n",
    "    difficulties.append(new_Difficulty)\n",
    "    print(\"difficulties: \", difficulties)\n",
    "    print('********************************************************')\n",
    "    return math.pow(2,  new_Difficulty)\n",
    "\n",
    "# adjustmentDifficulty(DIFFICULTY, 10)"
   ]
  },
  {
   "cell_type": "code",
   "execution_count": 6,
   "metadata": {
    "scrolled": false
   },
   "outputs": [
    {
     "name": "stdout",
     "output_type": "stream",
     "text": [
      "start:  1073741824 stop:  1342177280\n",
      "start:  536870912 stop:  805306368\n",
      "start:  805306368 stop:  1073741824\n",
      "start:  0 stop:  268435456\n",
      "start:  1342177280 stop:  1610612736\n",
      "start:  268435456 stop:  536870912\n",
      "start:  1610612736 stop:  1879048192\n",
      "start:  2147483648 stop:  2415919104\n",
      "start:  1879048192 stop:  2147483648\n",
      "start:  2684354560 stop:  2952790016\n",
      "start:  2415919104 stop:  2684354560\n",
      "start:  2952790016 stop:  3221225472\n",
      "start:  3221225472 stop:  3489660928\n",
      "start:  3489660928 stop:  3758096384\n",
      "start:  4026531840 stop:  4294967296\n",
      "start:  3758096384 stop:  4026531840\n",
      "complete process:  2\n",
      "complete process:  15\n",
      "complete process:  13\n",
      "complete process:  14\n",
      "complete process:  6\n",
      "complete process:  9\n",
      "complete process:  3\n",
      "complete process:  10\n",
      "complete process:  11\n",
      "complete process:  12\n",
      "complete process:  7\n",
      "complete process:  8\n",
      "complete process:  4\n",
      "complete process:  1\n",
      "complete process:  5\n",
      "complete process:  0\n",
      "duration time: 2206.812459\n",
      "65402\n"
     ]
    }
   ],
   "source": [
    "## Start mining\n",
    "import random\n",
    "import sys\n",
    "import math\n",
    "import os\n",
    "from datetime import datetime\n",
    "from multiprocessing import Process, Pool, Queue, Manager\n",
    "\n",
    "epochs = 100\n",
    "blocks = []\n",
    "errors = [0]\n",
    "durations = []\n",
    "errors_sum = 0\n",
    "pre_hash = '0'\n",
    "height = 1\n",
    "max_nounce = math.pow(2,32)\n",
    "\n",
    "def long_time_task(i, queue, start, stop, height, pre_hash, merkle, diff):\n",
    "    start_time = datetime.now()\n",
    "    print('start: ', start, 'stop: ', stop)\n",
    "    for z in range(start, stop):\n",
    "        block = Block(height, pre_hash, merkle, z, [])\n",
    "        temp = block.getHash()\n",
    "#         print(temp)\n",
    "        if int(temp, 16) < diff:\n",
    "            queue.put(z)\n",
    "#             print('size: ', queue.qsize(), 'nounce: ', z)\n",
    "    print('complete process: ', i)\n",
    "    \n",
    "merkle = 'fc8a1f655608fd9506559af832554f111e13821c'\n",
    "nodes_number = 16\n",
    "unit_nounce = max_nounce // nodes_number\n",
    "p = Pool()\n",
    "queue = Manager().Queue()\n",
    "start_time = datetime.now()\n",
    "\n",
    "for i in range(nodes_number):\n",
    "    start = int(i * unit_nounce) # nounce\n",
    "    stop = int((i + 1) * unit_nounce)\n",
    "    p.apply_async(long_time_task, args = (i, queue, start, stop, height, pre_hash, merkle, DIFFICULTY))  \n",
    "p.close()\n",
    "p.join()\n",
    "\n",
    "end_time = datetime.now()\n",
    "duration = end_time - start_time\n",
    "duration = duration.total_seconds()\n",
    "print('duration time: %s' % duration)\n",
    "\n",
    "print(queue.qsize())"
   ]
  },
  {
   "cell_type": "code",
   "execution_count": 2,
   "metadata": {},
   "outputs": [
    {
     "ename": "NameError",
     "evalue": "name 'queue' is not defined",
     "output_type": "error",
     "traceback": [
      "\u001b[0;31m---------------------------------------------------------------------------\u001b[0m",
      "\u001b[0;31mNameError\u001b[0m                                 Traceback (most recent call last)",
      "\u001b[0;32m<ipython-input-2-1c1961ca9c98>\u001b[0m in \u001b[0;36m<module>\u001b[0;34m\u001b[0m\n\u001b[1;32m      1\u001b[0m \u001b[0;31m# print(math.pow(2,15))\u001b[0m\u001b[0;34m\u001b[0m\u001b[0;34m\u001b[0m\u001b[0;34m\u001b[0m\u001b[0m\n\u001b[1;32m      2\u001b[0m \u001b[0;31m# 30720.0/16\u001b[0m\u001b[0;34m\u001b[0m\u001b[0;34m\u001b[0m\u001b[0;34m\u001b[0m\u001b[0m\n\u001b[0;32m----> 3\u001b[0;31m \u001b[0mprint\u001b[0m\u001b[0;34m(\u001b[0m\u001b[0mqueue\u001b[0m\u001b[0;34m.\u001b[0m\u001b[0mqsize\u001b[0m\u001b[0;34m(\u001b[0m\u001b[0;34m)\u001b[0m\u001b[0;34m)\u001b[0m\u001b[0;34m\u001b[0m\u001b[0;34m\u001b[0m\u001b[0m\n\u001b[0m",
      "\u001b[0;31mNameError\u001b[0m: name 'queue' is not defined"
     ]
    }
   ],
   "source": [
    "# print(math.pow(2,15))\n",
    "# 30720.0/16\n",
    "print(queue.qsize())"
   ]
  },
  {
   "cell_type": "code",
   "execution_count": 11,
   "metadata": {},
   "outputs": [
    {
     "ename": "NameError",
     "evalue": "name 'difficulties' is not defined",
     "output_type": "error",
     "traceback": [
      "\u001b[0;31m---------------------------------------------------------------------------\u001b[0m",
      "\u001b[0;31mNameError\u001b[0m                                 Traceback (most recent call last)",
      "\u001b[0;32m<ipython-input-11-c310cd8f4a29>\u001b[0m in \u001b[0;36m<module>\u001b[0;34m\u001b[0m\n\u001b[1;32m     13\u001b[0m     \u001b[0mplt\u001b[0m\u001b[0;34m.\u001b[0m\u001b[0mylabel\u001b[0m\u001b[0;34m(\u001b[0m\u001b[0;34m\"Time(s)\"\u001b[0m\u001b[0;34m)\u001b[0m\u001b[0;34m\u001b[0m\u001b[0;34m\u001b[0m\u001b[0m\n\u001b[1;32m     14\u001b[0m \u001b[0;34m\u001b[0m\u001b[0m\n\u001b[0;32m---> 15\u001b[0;31m \u001b[0mvisualization2\u001b[0m\u001b[0;34m(\u001b[0m\u001b[0mdifficulties\u001b[0m\u001b[0;34m)\u001b[0m\u001b[0;34m\u001b[0m\u001b[0;34m\u001b[0m\u001b[0m\n\u001b[0m",
      "\u001b[0;31mNameError\u001b[0m: name 'difficulties' is not defined"
     ]
    }
   ],
   "source": [
    "# import math\n",
    "# logs = []\n",
    "# for diff in difficulties:\n",
    "#     logs.append(diff)\n",
    "#     print(math.log2(diff))\n",
    "import matplotlib.pyplot as plt\n",
    "def visualization2(logs):\n",
    "    x = range(len(logs)-1)\n",
    "    y = logs[1:]\n",
    "    plt.figure(figsize=(20,4)) \n",
    "    plt.plot(x,y)\n",
    "    plt.xlabel(\"Diff\")\n",
    "    plt.ylabel(\"Time(s)\")\n",
    "\n",
    "visualization2(difficulties)"
   ]
  },
  {
   "cell_type": "code",
   "execution_count": 28,
   "metadata": {},
   "outputs": [
    {
     "data": {
      "image/png": "[encoded data removed]",
      "text/plain": [
       "<Figure size 1440x288 with 1 Axes>"
      ]
     },
     "metadata": {
      "needs_background": "light"
     },
     "output_type": "display_data"
    }
   ],
   "source": [
    "visualization(blocks)"
   ]
  },
  {
   "cell_type": "code",
   "execution_count": 26,
   "metadata": {},
   "outputs": [
    {
     "data": {
      "image/png": "[encoded data removed]",
      "text/plain": [
       "<Figure size 1440x288 with 1 Axes>"
      ]
     },
     "metadata": {
      "needs_background": "light"
     },
     "output_type": "display_data"
    }
   ],
   "source": [
    "visualization2(errors)"
   ]
  },
  {
   "cell_type": "code",
   "execution_count": 149,
   "metadata": {},
   "outputs": [
    {
     "data": {
      "text/plain": [
       "2.005374"
      ]
     },
     "execution_count": 149,
     "metadata": {},
     "output_type": "execute_result"
    }
   ],
   "source": [
    "from datetime import datetime\n",
    "import time\n",
    "start_time = datetime.now()\n",
    "time.sleep(2)\n",
    "end_time = datetime.now()\n",
    "a = end_time - start_time\n",
    "a.total_seconds()"
   ]
  },
  {
   "cell_type": "code",
   "execution_count": 150,
   "metadata": {},
   "outputs": [
    {
     "name": "stdout",
     "output_type": "stream",
     "text": [
      "Parent process 6145.\n",
      "Child process will start.\n",
      "Child process end.\n"
     ]
    }
   ],
   "source": [
    "from multiprocessing import Process, Pool\n",
    "import os\n",
    "\n",
    "def run_proc(name):\n",
    "    print('Run child process %s (%s)...' % (name, os.getpid()))\n",
    "    \n",
    "print('Parent process %s.' % os.getpid())\n",
    "p = Process(target=run_proc, args=('test',))\n",
    "print('Child process will start.')\n",
    "p.start()\n",
    "p.join()\n",
    "print('Child process end.')"
   ]
  },
  {
   "cell_type": "code",
   "execution_count": 67,
   "metadata": {},
   "outputs": [
    {
     "name": "stdout",
     "output_type": "stream",
     "text": [
      "Parent process 6145.\n",
      "Run task 2 (11449)...\n",
      "Run task 0 (11447)...\n",
      "Run task 3 (11450)...\n",
      "Run task 1 (11448)...\n",
      "Run task 4 (11451)...\n",
      "Run task 6 (11453)...\n",
      "Run task 5 (11452)...\n",
      "Run task 7 (11454)...\n",
      "Task 6 runs 0.07 seconds.\n",
      "Waiting for all subprocesses done...\n",
      "Task 2 runs 0.50 seconds.\n",
      "Task 5 runs 0.57 seconds.\n",
      "Task 3 runs 0.62 seconds.\n",
      "Task 0 runs 0.87 seconds.\n",
      "Task 1 runs 1.03 seconds.\n",
      "Task 7 runs 2.76 seconds.\n",
      "Task 4 runs 3.00 seconds.\n",
      "All subprocesses done.\n"
     ]
    }
   ],
   "source": [
    "from multiprocessing import Pool\n",
    "import os, time, random\n",
    "\n",
    "def long_time_task(name):\n",
    "    print('Run task %s (%s)...' % (name, os.getpid()))\n",
    "    start = time.time()\n",
    "    time.sleep(random.random() * 3)\n",
    "    end = time.time()\n",
    "    print('Task %s runs %0.2f seconds.' % (name, (end - start)))\n",
    "\n",
    "print('Parent process %s.' % os.getpid())\n",
    "p = Pool(8)\n",
    "for i in range(8):\n",
    "    p.apply_async(long_time_task, args=(i,))\n",
    "print('Waiting for all subprocesses done...')\n",
    "p.close()\n",
    "p.join()\n",
    "\n",
    "print('All subprocesses done.')"
   ]
  },
  {
   "cell_type": "code",
   "execution_count": 11,
   "metadata": {},
   "outputs": [
    {
     "name": "stdout",
     "output_type": "stream",
     "text": [
      "Process to write: 12493\n",
      "Put A to queue...\n",
      "Process to read: 12494\n",
      "Get A from queue.\n",
      "Put B to queue...\n",
      "Get B from queue.\n",
      "Put C to queue...\n",
      "Get C from queue.\n"
     ]
    }
   ],
   "source": [
    "from multiprocessing import Process, Queue\n",
    "import os, time, random\n",
    "\n",
    "# 写数据进程执行的代码:\n",
    "def write(q):\n",
    "    print('Process to write: %s' % os.getpid())\n",
    "    for value in ['A', 'B', 'C']:\n",
    "        print('Put %s to queue...' % value)\n",
    "        q.put(value)\n",
    "        time.sleep(random.random())\n",
    "\n",
    "# 读数据进程执行的代码:\n",
    "def read(q):\n",
    "    print('Process to read: %s' % os.getpid())\n",
    "    while True:\n",
    "        value = q.get(True)\n",
    "        print('Get %s from queue.' % value)\n",
    "\n",
    "# 父进程创建Queue，并传给各个子进程：\n",
    "q = Queue()\n",
    "pw = Process(target=write, args=(q,))\n",
    "pr = Process(target=read, args=(q,))\n",
    "# 启动子进程pw，写入:\n",
    "pw.start()\n",
    "# 启动子进程pr，读取:\n",
    "pr.start()\n",
    "# 等待pw结束:\n",
    "pw.join()\n",
    "# pr进程里是死循环，无法等待其结束，只能强行终止:\n",
    "pr.terminate()"
   ]
  },
  {
   "cell_type": "code",
   "execution_count": 42,
   "metadata": {},
   "outputs": [
    {
     "name": "stdout",
     "output_type": "stream",
     "text": [
      "sent from main process\n",
      "sent from child process\n"
     ]
    }
   ],
   "source": [
    "from multiprocessing import Pipe, Process\n",
    "\n",
    "def worker(conn):\n",
    "    print(conn.recv())\n",
    "    conn.send(\"sent from child process\")\n",
    "\n",
    "conn1, conn2 = Pipe()\n",
    "process = Process(target=worker, args=[conn2])\n",
    "process.start()\n",
    "\n",
    "conn1.send(\"sent from main process\")\n",
    "print(conn1.recv())\n"
   ]
  },
  {
   "cell_type": "code",
   "execution_count": 47,
   "metadata": {},
   "outputs": [
    {
     "name": "stdout",
     "output_type": "stream",
     "text": [
      "9223372036854775807\n"
     ]
    }
   ],
   "source": [
    "import sys\n",
    "print(sys.maxsize)"
   ]
  },
  {
   "cell_type": "code",
   "execution_count": 10,
   "metadata": {},
   "outputs": [
    {
     "data": {
      "text/plain": [
       "3.0"
      ]
     },
     "execution_count": 10,
     "metadata": {},
     "output_type": "execute_result"
    }
   ],
   "source": [
    "import math\n",
    "math.log2(8)"
   ]
  },
  {
   "cell_type": "code",
   "execution_count": 42,
   "metadata": {},
   "outputs": [
    {
     "name": "stdout",
     "output_type": "stream",
     "text": [
      "16\n"
     ]
    }
   ],
   "source": [
    "print(os.cpu_count())"
   ]
  },
  {
   "cell_type": "code",
   "execution_count": 110,
   "metadata": {},
   "outputs": [
    {
     "name": "stdout",
     "output_type": "stream",
     "text": [
      "duration time: 2.751718\n"
     ]
    }
   ],
   "source": [
    "from datetime import datetime\n",
    "t_merkle = 'fc8a1f655608fd9506559af832554f111e13821c'\n",
    "t_height = 0\n",
    "t_pre_hash = \"\"\n",
    "t_nounce = 0\n",
    "t_pre = '0'\n",
    "t_start_time = datetime.now()\n",
    "\n",
    "for x in range(0,1000000):\n",
    "    block = Block(t_height, t_pre, t_merkle, x, [])\n",
    "    t_height += 1\n",
    "    t_pre = block.getHash()\n",
    "\n",
    "t_end_time = datetime.now()\n",
    "t_duration = t_end_time - t_start_time\n",
    "t_duration = t_duration.total_seconds()\n",
    "print('duration time: %s' % t_duration)\n"
   ]
  },
  {
   "cell_type": "code",
   "execution_count": 126,
   "metadata": {},
   "outputs": [
    {
     "data": {
      "text/plain": [
       "0.0162405"
      ]
     },
     "execution_count": 126,
     "metadata": {},
     "output_type": "execute_result"
    }
   ],
   "source": [
    "3458764513820541015 % 461168601842738 * 2.7/1000000"
   ]
  },
  {
   "cell_type": "code",
   "execution_count": 8,
   "metadata": {},
   "outputs": [],
   "source": [
    "# change difficulty every 10 blocks \n",
    "# def adjustmentDifficulty(old_Difficulty,height):\n",
    "#     old_Difficulty = math.log2(old_Difficulty)\n",
    "#     previous_ten_durations = durations[len(durations)-10:len(durations)]\n",
    "#     sum = 0\n",
    "#     for duration in previous_ten_durations:\n",
    "#         sum += duration     \n",
    "#     new_Difficulty = old_Difficulty * sum / 20 \n",
    "#     return math.pow(2,  new_Difficulty)"
   ]
  },
  {
   "cell_type": "code",
   "execution_count": null,
   "metadata": {},
   "outputs": [],
   "source": [
    "## Start mining\n",
    "# import random\n",
    "# import sys\n",
    "# import os\n",
    "# from datetime import datetime\n",
    "# from multiprocessing import Process, Pool, Queue, Manager\n",
    "\n",
    "# epochs = 100\n",
    "# blocks = []\n",
    "# errors = [0]\n",
    "# durations = []\n",
    "# errors_sum = 0\n",
    "# pre_hash = '0'\n",
    "# height = 1\n",
    "# max_nounce = sys.maxsize\n",
    "# one_hash_time = 2.7/1000000\n",
    "# actual_numbers = 2000000\n",
    "# actual_unit_nounce = max_nounce // actual_numbers\n",
    "\n",
    "\n",
    "# def long_time_task(i, queue, start, height, pre_hash, merkle, DIFFICULTY):\n",
    "#     print('Run task %s (%s)...' % (i, os.getpid()))\n",
    "#     start_time = datetime.now()\n",
    "#     while queue.empty():\n",
    "#         print(\"process: %s nounce: %s\" % (i, start))\n",
    "#         block = Block(height, pre_hash, merkle, start, [])\n",
    "#         if int(block.getHash(),16) < DIFFICULTY:\n",
    "#             block.printJSON()\n",
    "#             queue.put(start)\n",
    "#             break\n",
    "#         else:\n",
    "#             start += 1\n",
    "    \n",
    "# while height < 1000:\n",
    "#     print('Epoch %s, Parent process %s, mining...' % (height, os.getpid()))\n",
    "#     merkle = sha1(random.random())\n",
    "#     nodes_number = 16\n",
    "#     unit_nounce = max_nounce // nodes_number\n",
    "#     p = Pool()\n",
    "#     queue = Manager().Queue()\n",
    "\n",
    "#     for i in range(nodes_number):\n",
    "#         start = i * unit_nounce # nounce\n",
    "#         p.apply_async(long_time_task, args = (i, queue, start, height, pre_hash, merkle, DIFFICULTY))  \n",
    "#     p.close()\n",
    "#     p.join()\n",
    "    \n",
    "#     result_nounce = queue.get(True)\n",
    "#     duration = (result_nounce % actual_unit_nounce) * one_hash_time\n",
    "    \n",
    "#     block = Block(height, pre_hash, merkle, result_nounce, [])\n",
    "#     block.duration = duration\n",
    "#     durations.append(duration)\n",
    "#     blocks.append(block)\n",
    "    \n",
    "#     error = (1 - duration)/1\n",
    "#     errors.append(error)\n",
    "#     errors_sum += error\n",
    "    \n",
    "#     DIFFICULTY = adjustmentDifficulty(DIFFICULTY,height)\n",
    "\n",
    "#     height += 1\n",
    "#     pre_hash = block.getHash()"
   ]
  },
  {
   "cell_type": "code",
   "execution_count": 2,
   "metadata": {},
   "outputs": [
    {
     "data": {
      "text/plain": [
       "1"
      ]
     },
     "execution_count": 2,
     "metadata": {},
     "output_type": "execute_result"
    }
   ],
   "source": [
    "import math\n",
    "abs(-1)"
   ]
  },
  {
   "cell_type": "code",
   "execution_count": null,
   "metadata": {},
   "outputs": [],
   "source": []
  }
 ],
 "metadata": {
  "kernelspec": {
   "display_name": "Python 3",
   "language": "python",
   "name": "python3"
  },
  "language_info": {
   "codemirror_mode": {
    "name": "ipython",
    "version": 3
   },
   "file_extension": ".py",
   "mimetype": "text/x-python",
   "name": "python",
   "nbconvert_exporter": "python",
   "pygments_lexer": "ipython3",
   "version": "3.7.3"
  }
 },
 "nbformat": 4,
 "nbformat_minor": 2
}
